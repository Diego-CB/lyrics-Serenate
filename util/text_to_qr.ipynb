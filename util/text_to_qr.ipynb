{
 "cells": [
  {
   "cell_type": "code",
   "execution_count": 1,
   "id": "36793c58",
   "metadata": {},
   "outputs": [
    {
     "name": "stdout",
     "output_type": "stream",
     "text": [
      "Collecting qrcode[pil]\n",
      "  Using cached qrcode-8.2-py3-none-any.whl (45 kB)\n",
      "Requirement already satisfied: colorama in c:\\github\\personal\\lyrics-serenate\\util\\venv\\lib\\site-packages (from qrcode[pil]) (0.4.6)\n",
      "Collecting pillow>=9.1.0\n",
      "  Downloading pillow-11.3.0-cp310-cp310-win_amd64.whl (7.0 MB)\n",
      "Installing collected packages: qrcode, pillow\n",
      "Successfully installed pillow-11.3.0 qrcode-8.2\n"
     ]
    },
    {
     "name": "stderr",
     "output_type": "stream",
     "text": [
      "WARNING: You are using pip version 21.2.3; however, version 25.2 is available.\n",
      "You should consider upgrading via the 'C:\\github\\personal\\lyrics-Serenate\\util\\venv\\Scripts\\python.exe -m pip install --upgrade pip' command.\n"
     ]
    }
   ],
   "source": [
    "!pip install qrcode[pil]"
   ]
  },
  {
   "cell_type": "code",
   "execution_count": 3,
   "id": "069b4b93",
   "metadata": {},
   "outputs": [],
   "source": [
    "#!/usr/bin/env python3\n",
    "import argparse\n",
    "import sys\n",
    "from typing import Optional\n",
    "import qrcode\n",
    "from qrcode.constants import ERROR_CORRECT_L, ERROR_CORRECT_M, ERROR_CORRECT_Q, ERROR_CORRECT_H\n",
    "from PIL import Image, ImageOps, ImageDraw\n",
    "\n",
    "EC_MAP = {\n",
    "    \"L\": ERROR_CORRECT_L,\n",
    "    \"M\": ERROR_CORRECT_M,\n",
    "    \"Q\": ERROR_CORRECT_Q,\n",
    "    \"H\": ERROR_CORRECT_H,\n",
    "}\n",
    "\n"
   ]
  },
  {
   "cell_type": "code",
   "execution_count": 6,
   "id": "c9ad212f",
   "metadata": {},
   "outputs": [],
   "source": [
    "def add_logo_to_qr(qr_img: Image.Image,\n",
    "                   logo_path: str,\n",
    "                   logo_scale: float = 0.2,\n",
    "                   logo_border: int = 8,\n",
    "                   logo_round: bool = True,\n",
    "                   border_color: str = \"white\") -> Image.Image:\n",
    "    \"\"\"\n",
    "    Inserta un logo centrado dentro del QR.\n",
    "    - logo_scale: proporción del lado del QR (0.1–0.3 recomendado).\n",
    "    - logo_border: grosor del borde blanco que mejora la lectura del QR.\n",
    "    - logo_round: si True, redondea el logo (círculo o esquinas redondas).\n",
    "    \"\"\"\n",
    "    qr = qr_img.convert(\"RGBA\")\n",
    "    logo = Image.open(logo_path).convert(\"RGBA\")\n",
    "\n",
    "    # calcular tamaño del logo relativo al QR\n",
    "    qrw, qrh = qr.size\n",
    "    max_logo_w = int(qrw * logo_scale)\n",
    "    max_logo_h = int(qrh * logo_scale)\n",
    "\n",
    "    # preservar aspecto\n",
    "    logo.thumbnail((max_logo_w, max_logo_h), Image.LANCZOS)\n",
    "    lw, lh = logo.size\n",
    "\n",
    "    # borde blanco detrás del logo para mejorar contraste\n",
    "    # creamos un \"lienzo\" un poco más grande que el logo\n",
    "    canvas_w = lw + 2 * logo_border\n",
    "    canvas_h = lh + 2 * logo_border\n",
    "    canvas = Image.new(\"RGBA\", (canvas_w, canvas_h), (255, 255, 255, 0))\n",
    "\n",
    "    # máscara para forma redondeada si se pide\n",
    "    if logo_round:\n",
    "        # círculo si es casi cuadrado; si no, esquinas redondas\n",
    "        radius = min(canvas_w, canvas_h) // 2\n",
    "        mask = Image.new(\"L\", (canvas_w, canvas_h), 0)\n",
    "        draw = ImageDraw.Draw(mask)\n",
    "        if abs(lw - lh) <= max(2, int(0.1 * max(lw, lh))):\n",
    "            # círculo\n",
    "            draw.ellipse((0, 0, canvas_w, canvas_h), fill=255)\n",
    "            # fondo blanco circular\n",
    "            bg = Image.new(\"RGBA\", (canvas_w, canvas_h), border_color)\n",
    "            canvas = Image.composite(bg, canvas, mask)\n",
    "            # pegar logo centrado usando máscara circular recortada al tamaño del logo\n",
    "            # (logo centrado en el círculo)\n",
    "            logo_mask = Image.new(\"L\", logo.size, 255)\n",
    "            canvas.paste(logo, (logo_border, logo_border), logo_mask)\n",
    "        else:\n",
    "            # esquinas redondeadas\n",
    "            corner = int(min(canvas_w, canvas_h) * 0.25)\n",
    "            draw.rounded_rectangle((0, 0, canvas_w, canvas_h), radius=corner, fill=255)\n",
    "            bg = Image.new(\"RGBA\", (canvas_w, canvas_h), border_color)\n",
    "            canvas = Image.composite(bg, canvas, mask)\n",
    "            canvas.paste(logo, (logo_border, logo_border), logo)\n",
    "    else:\n",
    "        # borde rectangular\n",
    "        bg = Image.new(\"RGBA\", (canvas_w, canvas_h), border_color)\n",
    "        canvas.alpha_composite(bg)\n",
    "        canvas.paste(logo, (logo_border, logo_border), logo)\n",
    "\n",
    "    # pegar en el centro del QR\n",
    "    pos = ((qrw - canvas_w) // 2, (qrh - canvas_h) // 2)\n",
    "    qr.alpha_composite(canvas, dest=pos)\n",
    "    return qr.convert(\"RGB\")"
   ]
  },
  {
   "cell_type": "code",
   "execution_count": 7,
   "id": "4b83112f",
   "metadata": {},
   "outputs": [],
   "source": [
    "def make_qr(text: str,\n",
    "            out_path: str,\n",
    "            ec: str = \"H\",\n",
    "            box_size: int = 10,\n",
    "            border: int = 4,\n",
    "            version: Optional[int] = None,\n",
    "            logo_path: Optional[str] = None,\n",
    "            logo_scale: float = 0.2,\n",
    "            logo_border: int = 8,\n",
    "            logo_round: bool = True,\n",
    "            border_color: str = \"white\") -> str:\n",
    "    error_correction = EC_MAP.get(ec.upper(), ERROR_CORRECT_H)\n",
    "\n",
    "    qr = qrcode.QRCode(\n",
    "        version=version,\n",
    "        error_correction=error_correction,\n",
    "        box_size=box_size,\n",
    "        border=border,\n",
    "    )\n",
    "    qr.add_data(text)\n",
    "    qr.make(fit=True)\n",
    "\n",
    "    img = qr.make_image(fill_color=\"black\", back_color=\"white\").convert(\"RGB\")\n",
    "\n",
    "    if logo_path:\n",
    "        img = add_logo_to_qr(\n",
    "            img,\n",
    "            logo_path=logo_path,\n",
    "            logo_scale=logo_scale,\n",
    "            logo_border=logo_border,\n",
    "            logo_round=logo_round,\n",
    "            border_color=border_color,\n",
    "        )\n",
    "\n",
    "    img.save(out_path)\n",
    "    return out_path"
   ]
  },
  {
   "cell_type": "code",
   "execution_count": 11,
   "id": "6a3afa82",
   "metadata": {},
   "outputs": [],
   "source": [
    "img = make_qr(\n",
    "    text=\"https://diego-cb.github.io/lyrics-Serenate/\",\n",
    "    out_path=\"./qr.png\",\n",
    "    ec=\"H\",\n",
    "    logo_path=\"../src/assets/smporres.jpeg\",\n",
    "    logo_scale=0.2,           # 0.15–0.25 works well\n",
    "    logo_border=10,           # white border around the logo (px)\n",
    "    logo_round=True,          # rounded logo container\n",
    ")\n"
   ]
  }
 ],
 "metadata": {
  "kernelspec": {
   "display_name": "venv",
   "language": "python",
   "name": "python3"
  },
  "language_info": {
   "codemirror_mode": {
    "name": "ipython",
    "version": 3
   },
   "file_extension": ".py",
   "mimetype": "text/x-python",
   "name": "python",
   "nbconvert_exporter": "python",
   "pygments_lexer": "ipython3",
   "version": "3.10.0"
  }
 },
 "nbformat": 4,
 "nbformat_minor": 5
}
